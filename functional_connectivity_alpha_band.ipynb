{
 "cells": [
  {
   "cell_type": "markdown",
   "id": "61d593e6",
   "metadata": {},
   "source": [
    "# 🧠 Functional Connectivity – Alpha Band\n",
    "\n",
    "This notebook analyzes the functional connectivity network for the **alpha band**.\n",
    "\n",
    "---\n",
    "\n",
    "### 🔄 Modifying for Other Frequency Bands\n",
    "\n",
    "To analyze other frequency bands (like theta, beta, or gamma), simply update the band-pass filter parameters or frequency selection step in the preprocessing section. The rest of the analysis remains unchanged.\n",
    "\n",
    "```python\n",
    "# Example for theta band\n",
    "low_freq = 4\n",
    "high_freq = 8\n",
    "```\n",
    "\n",
    "Make sure to reflect this change in any plots or network interpretation steps.\n"
   ]
  },
  {
   "cell_type": "code",
   "execution_count": null,
   "id": "5a401f6d",
   "metadata": {},
   "outputs": [],
   "source": [
    "import numpy as np\n",
    "import random"
   ]
  },
  {
   "cell_type": "code",
   "execution_count": null,
   "id": "f930c447",
   "metadata": {},
   "outputs": [],
   "source": [
    "import mne\n",
    "import matplotlib.pyplot as plt\n",
    "from mne.datasets import sample\n",
    "from mne_connectivity import spectral_connectivity_epochs"
   ]
  },
  {
   "cell_type": "code",
   "execution_count": null,
   "id": "28625892",
   "metadata": {},
   "outputs": [],
   "source": [
    "import networkx as nx"
   ]
  },
  {
   "cell_type": "code",
   "execution_count": null,
   "id": "c2e23839",
   "metadata": {},
   "outputs": [],
   "source": [
    "data_path = sample.data_path()\n",
    "raw_fname = data_path / 'MEG/sample/sample_audvis_filt-0-40_raw.fif'\n",
    "event_fname = data_path / 'MEG/sample/sample_audvis_filt-0-40_raw-eve.fif'\n",
    "raw = mne.io.read_raw_fif(raw_fname)\n",
    "events = mne.read_events(event_fname)\n"
   ]
  },
  {
   "cell_type": "code",
   "execution_count": null,
   "id": "2d609b3f",
   "metadata": {},
   "outputs": [],
   "source": [
    "print(raw)\n",
    "print(raw.info)"
   ]
  },
  {
   "cell_type": "code",
   "execution_count": null,
   "id": "7e3db0aa",
   "metadata": {},
   "outputs": [],
   "source": [
    "raw.pick_types(eeg=True)"
   ]
  },
  {
   "cell_type": "code",
   "execution_count": null,
   "id": "da4227df",
   "metadata": {},
   "outputs": [],
   "source": [
    "raw.plot(n_channels=59)"
   ]
  },
  {
   "cell_type": "code",
   "execution_count": null,
   "id": "8a3c2d33",
   "metadata": {},
   "outputs": [],
   "source": [
    "raw.load_data()"
   ]
  },
  {
   "cell_type": "code",
   "execution_count": null,
   "id": "05032ab7",
   "metadata": {},
   "outputs": [],
   "source": [
    "# raw.filter(0.5, 4, fir_design='firwin')"
   ]
  },
  {
   "cell_type": "code",
   "execution_count": null,
   "id": "188984be",
   "metadata": {},
   "outputs": [],
   "source": [
    "ica = mne.preprocessing.ICA(n_components=59, random_state=42)\n",
    "ica.fit(raw)\n",
    "ica.apply(raw)"
   ]
  },
  {
   "cell_type": "code",
   "execution_count": null,
   "id": "6d8d4ff9",
   "metadata": {},
   "outputs": [],
   "source": [
    "epochs = mne.Epochs(raw,events)"
   ]
  },
  {
   "cell_type": "code",
   "execution_count": null,
   "id": "36e6b5cf",
   "metadata": {},
   "outputs": [],
   "source": [
    "sfreq = 150.15\n",
    "tmin= 0\n",
    "fmin= 8\n",
    "fmax= 13\n",
    "\n",
    "#alpha band"
   ]
  },
  {
   "cell_type": "code",
   "execution_count": null,
   "id": "fbc46eca",
   "metadata": {},
   "outputs": [],
   "source": [
    "con_pli = spectral_connectivity_epochs(\n",
    "    epochs, method='pli', mode='multitaper', sfreq=sfreq, fmin=fmin,\n",
    "    fmax=fmax, faverage=True, tmin=tmin, mt_adaptive=False, n_jobs=1)\n"
   ]
  },
  {
   "cell_type": "code",
   "execution_count": null,
   "id": "c6e5f462",
   "metadata": {},
   "outputs": [],
   "source": [
    "np.shape(con_pli)"
   ]
  },
  {
   "cell_type": "code",
   "execution_count": null,
   "id": "db85c6d2",
   "metadata": {},
   "outputs": [],
   "source": [
    "np.shape(con_pli.get_data('dense'))"
   ]
  },
  {
   "cell_type": "code",
   "execution_count": null,
   "id": "826ff38d",
   "metadata": {},
   "outputs": [],
   "source": [
    "conn=con_pli.get_data('dense')\n",
    "connectivity=conn[:,:,0]"
   ]
  },
  {
   "cell_type": "code",
   "execution_count": null,
   "id": "18ce7ae0",
   "metadata": {},
   "outputs": [],
   "source": [
    "np.shape(connectivity)"
   ]
  },
  {
   "cell_type": "code",
   "execution_count": null,
   "id": "9d779c09",
   "metadata": {},
   "outputs": [],
   "source": [
    "mat = connectivity\n",
    "# Get the lower triangle indices\n",
    "lower_triangle_indices = np.tril_indices_from(mat, k=-1)\n",
    "\n",
    "# Get the values below the diagonal\n",
    "lower_triangle_values = mat[lower_triangle_indices]\n",
    "\n",
    "# Mirror the values onto the values above the diagonal\n",
    "mat[np.triu_indices_from(mat, k=1)] = lower_triangle_values\n",
    "\n",
    "# Print the resulting matrix with mirrored values\n",
    "print(mat)"
   ]
  },
  {
   "cell_type": "code",
   "execution_count": null,
   "id": "5f606df0",
   "metadata": {},
   "outputs": [],
   "source": [
    "is_symmetric = np.array_equal(mat, mat.T)\n",
    "\n",
    "# Print the result\n",
    "if is_symmetric:\n",
    "    print(\"The matrix is symmetric.\")\n",
    "else:\n",
    "    print(\"The matrix is not symmetric.\")"
   ]
  },
  {
   "cell_type": "code",
   "execution_count": null,
   "id": "036e46ab",
   "metadata": {},
   "outputs": [],
   "source": [
    "# Create a figure and axis\n",
    "fig, ax = plt.subplots()\n",
    "\n",
    "# Create a heatmap using matshow\n",
    "heatmap = ax.matshow(mat, cmap='viridis')\n",
    "\n",
    "# Add a colorbar\n",
    "cbar = plt.colorbar(heatmap)\n",
    "\n",
    "# Add title and labels\n",
    "ax.set_title('Functional Connectivity Matrix')\n",
    "ax.set_xlabel('Nodes')\n",
    "ax.set_ylabel('Nodes')\n",
    "\n",
    "# Show the plot\n",
    "plt.show()\n"
   ]
  },
  {
   "cell_type": "code",
   "execution_count": null,
   "id": "34f07de0",
   "metadata": {},
   "outputs": [],
   "source": [
    "# Set a threshold value\n",
    "threshold = 0.05  # Adjust the threshold as desired\n",
    "\n",
    "# Apply thresholding to convert to a binary matrix\n",
    "binary_matrix = np.where(mat >= threshold, 1, 0)\n",
    "\n",
    "# Print the binary matrix\n",
    "print(binary_matrix)\n",
    "\n",
    "plt.imshow(binary_matrix, cmap='hot', interpolation='nearest')\n",
    "\n",
    "# Add colorbar\n",
    "plt.colorbar()\n",
    "\n",
    "# Set labels and title\n",
    "plt.xlabel('Nodes')\n",
    "plt.ylabel('Nodes')\n",
    "plt.title('binary Matrix')\n",
    "\n",
    "# Display the plot\n",
    "plt.show()"
   ]
  },
  {
   "cell_type": "code",
   "execution_count": null,
   "id": "a1b68363",
   "metadata": {},
   "outputs": [],
   "source": [
    "mat1 = binary_matrix\n",
    "# Create an empty graph\n",
    "graph = nx.Graph()\n",
    "\n",
    "# Add nodes to the graph\n",
    "num_nodes = mat1.shape[0]\n",
    "graph.add_nodes_from(range(num_nodes))\n",
    "\n",
    "# Add edges to the graph based on the binary connectivity matrix\n",
    "rows, cols = np.where(mat1 == 1)\n",
    "edges = zip(rows, cols)\n",
    "graph.add_edges_from(edges)\n",
    "\n",
    "# Visualize the graph\n",
    "nx.draw(graph, with_labels=True)\n",
    "plt.show()"
   ]
  },
  {
   "cell_type": "code",
   "execution_count": null,
   "id": "33405d0b",
   "metadata": {},
   "outputs": [],
   "source": [
    "# Calculate the clustering coefficient\n",
    "Cp = nx.average_clustering(graph)\n",
    "\n",
    "# Calculate the characteristic path length\n",
    "Lp = nx.average_shortest_path_length(graph)\n",
    "\n",
    "# Print the results\n",
    "print(\"Clustering Coefficient (C):\", Cp)\n",
    "print(\"Characteristic Path Length(L):\", Lp)\n"
   ]
  },
  {
   "cell_type": "code",
   "execution_count": null,
   "id": "50193854",
   "metadata": {},
   "outputs": [],
   "source": [
    "# Create a surrogate graph with the same structure as the binary graph\n",
    "surrogate_graph = nx.Graph()\n",
    "surrogate_graph.add_nodes_from(graph.nodes)\n",
    "surrogate_graph.add_edges_from(graph.edges)\n",
    "\n",
    "# Shuffle the weights of the edges in the surrogate graph\n",
    "edges = list(surrogate_graph.edges)\n",
    "weights = np.random.permutation(len(edges))\n",
    "for i, (u, v) in enumerate(edges):\n",
    "    surrogate_graph[u][v]['weight'] = weights[i]\n",
    "\n",
    "# Visualize the serogate graph\n",
    "nx.draw(surrogate_graph, with_labels=True)\n",
    "plt.show()"
   ]
  },
  {
   "cell_type": "code",
   "execution_count": null,
   "id": "e070cf20",
   "metadata": {},
   "outputs": [],
   "source": [
    "grap=surrogate_graph\n",
    "# Calculate the clustering coefficient\n",
    "Cps = nx.average_clustering(grap)\n",
    "\n",
    "# Calculate the characteristic path length\n",
    "Lps = nx.average_shortest_path_length(grap)\n",
    "\n",
    "# Print the results\n",
    "print(\"Clustering Coefficient (Cps):\", Cps)\n",
    "print(\"Characteristic Path Length(Lps):\", Lps)\n"
   ]
  },
  {
   "cell_type": "code",
   "execution_count": null,
   "id": "1807ef66",
   "metadata": {},
   "outputs": [],
   "source": [
    "#normalized variable\n",
    "\n",
    "gamma = Cp/Cps #normalised clustering coefficient.\n",
    "lamda = Lp/Lps #normalised characteristic path length.\n",
    "sigma = gamma/lamda"
   ]
  },
  {
   "cell_type": "code",
   "execution_count": null,
   "id": "73d3d1ae",
   "metadata": {},
   "outputs": [],
   "source": [
    "gamma"
   ]
  },
  {
   "cell_type": "code",
   "execution_count": null,
   "id": "96095b10",
   "metadata": {},
   "outputs": [],
   "source": [
    "lamda"
   ]
  },
  {
   "cell_type": "code",
   "execution_count": null,
   "id": "ea7b36e2",
   "metadata": {},
   "outputs": [],
   "source": [
    "sigma"
   ]
  },
  {
   "cell_type": "code",
   "execution_count": null,
   "id": "97b74f7b",
   "metadata": {},
   "outputs": [],
   "source": [
    "G = graph\n",
    "\n",
    "# Add nodes and edges to the graph\n",
    "\n",
    "# Calculate the average clustering coefficient of the network\n",
    "clustering_coefficient = nx.average_clustering(G)\n",
    "\n",
    "# Calculate the average shortest path length of the network\n",
    "characteristic_path_length = nx.average_shortest_path_length(G)\n",
    "\n",
    "# Generate an equivalent random network with the same number of nodes and edges\n",
    "random_graph = nx.random_reference(G, niter=10)\n",
    "\n",
    "# Calculate the average clustering coefficient of the random network\n",
    "random_clustering_coefficient = nx.average_clustering(random_graph)\n",
    "\n",
    "# Calculate the average shortest path length of the random network\n",
    "random_characteristic_path_length = nx.average_shortest_path_length(random_graph)\n",
    "\n",
    "# Calculate the small-worldness coefficient\n",
    "small_worldness = (clustering_coefficient / random_clustering_coefficient) / (characteristic_path_length / random_characteristic_path_length)\n",
    "\n",
    "print(\"Small-Worldness Coefficient:\", small_worldness)\n",
    "print(\"Cp =\",clustering_coefficient,'\\n Lp=',characteristic_path_length,'\\n Cps=',random_clustering_coefficient,'Lps=',random_characteristic_path_length)"
   ]
  },
  {
   "cell_type": "code",
   "execution_count": null,
   "id": "34b5f492",
   "metadata": {},
   "outputs": [],
   "source": [
    "gam = clustering_coefficient/characteristic_path_length #normalised clustering coefficient.\n",
    "lam = random_clustering_coefficient/random_characteristic_path_length #normalised characteristic path length.\n",
    "sig = gam/lam\n",
    "print('gam:',gam,'\\n lam:',lam,'\\n sig:',sig)"
   ]
  },
  {
   "cell_type": "code",
   "execution_count": null,
   "id": "668b4782",
   "metadata": {},
   "outputs": [],
   "source": []
  }
 ],
 "metadata": {
  "kernelspec": {
   "display_name": "Python 3 (ipykernel)",
   "language": "python",
   "name": "python3"
  },
  "language_info": {
   "codemirror_mode": {
    "name": "ipython",
    "version": 3
   },
   "file_extension": ".py",
   "mimetype": "text/x-python",
   "name": "python",
   "nbconvert_exporter": "python",
   "pygments_lexer": "ipython3",
   "version": "3.9.12"
  }
 },
 "nbformat": 4,
 "nbformat_minor": 5
}
